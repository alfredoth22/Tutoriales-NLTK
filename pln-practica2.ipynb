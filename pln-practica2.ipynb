{
 "metadata": {
  "name": "pln-practica2"
 }, 
 "nbformat": 2, 
 "worksheets": [
  {
   "cells": [
    {
     "cell_type": "markdown", 
     "source": [
      "# Procesamiento del Lenguaje Natural.", 
      "", 
      "##Pr\u00e1ctica 2.", 
      "", 
      "Una vez dentro de iPython, importamos el m\u00f3dulo de WordNet y nos aseguramos de que las divisiones van a funcionar correctamente."
     ]
    }, 
    {
     "cell_type": "code", 
     "collapsed": false, 
     "input": [
      "from nltk.corpus import wordnet as wn", 
      "from __future__ import division"
     ], 
     "language": "python", 
     "outputs": [
      {
       "output_type": "stream", 
       "stream": "stdout", 
       "text": [
        ""
       ]
      }
     ], 
     "prompt_number": 2
    }, 
    {
     "cell_type": "markdown", 
     "source": [
      "Busca todos los sentidos de *bike* que aparecen en WordNet funcionando como un nombre y gu\u00e1rdalos en una variable llamada `bikeSynsets`."
     ]
    }, 
    {
     "cell_type": "code", 
     "collapsed": true, 
     "input": [
      "bikeSynsets = wn.synsets(\"bike\", \"n\")"
     ], 
     "language": "python", 
     "outputs": [], 
     "prompt_number": 3
    }, 
    {
     "cell_type": "markdown", 
     "source": [
      "Imprime por pantalla los lemmas y las definiciones de todos los synsets nominales de *bike* que has guardado en `bikeSynsets`."
     ]
    }, 
    {
     "cell_type": "code", 
     "collapsed": false, 
     "input": [
      "for synset in bikeSynsets:", 
      "    print synset.lemma_names, synset.definition"
     ], 
     "language": "python", 
     "outputs": [
      {
       "output_type": "stream", 
       "stream": "stdout", 
       "text": [
        "['motorcycle', 'bike'] a motor vehicle with two wheels and a strong frame", 
        "['bicycle', 'bike', 'wheel', 'cycle'] a wheeled vehicle that has two wheels and is moved by foot pedals"
       ]
      }
     ], 
     "prompt_number": 4
    }, 
    {
     "cell_type": "markdown", 
     "source": [
      "Guarda cada synset en una variable diferente para que sea m\u00e1s sencillo acceder a ellos. Ll\u00e1malas, p. ej.: `moto` y `bici`."
     ]
    }, 
    {
     "cell_type": "code", 
     "collapsed": true, 
     "input": [
      "moto = bikeSynsets[0]", 
      "bici = bikeSynsets[1]"
     ], 
     "language": "python", 
     "outputs": [], 
     "prompt_number": 5
    }, 
    {
     "cell_type": "markdown", 
     "source": [
      "Imprime por pantalla los hipern\u00f3nimos directos de cada uno."
     ]
    }, 
    {
     "cell_type": "code", 
     "collapsed": false, 
     "input": [
      "print moto.hypernyms()"
     ], 
     "language": "python", 
     "outputs": [
      {
       "output_type": "stream", 
       "stream": "stdout", 
       "text": [
        "[Synset('motor_vehicle.n.01')]"
       ]
      }
     ], 
     "prompt_number": 6
    }, 
    {
     "cell_type": "code", 
     "collapsed": false, 
     "input": [
      "print bici.hypernyms()"
     ], 
     "language": "python", 
     "outputs": [
      {
       "output_type": "stream", 
       "stream": "stdout", 
       "text": [
        "[Synset('wheeled_vehicle.n.01')]"
       ]
      }
     ], 
     "prompt_number": 7
    }, 
    {
     "cell_type": "markdown", 
     "source": [
      "\u00bfCu\u00e1l de los dos sentidos tiene m\u00e1s hip\u00f3nimos? Impr\u00edmelos por pantalla."
     ]
    }, 
    {
     "cell_type": "code", 
     "collapsed": false, 
     "input": [
      "print \"moto tiene\", len(moto.hyponyms()), \"synsets -->\", moto.hyponyms()"
     ], 
     "language": "python", 
     "outputs": [
      {
       "output_type": "stream", 
       "stream": "stdout", 
       "text": [
        "moto tiene 2 synsets --> [Synset('trail_bike.n.01'), Synset('minibike.n.01')]"
       ]
      }
     ], 
     "prompt_number": 8
    }, 
    {
     "cell_type": "code", 
     "collapsed": false, 
     "input": [
      "print \"bici tiene\", len(bici.hyponyms()), \"synsets -->\", bici.hyponyms()"
     ], 
     "language": "python", 
     "outputs": [
      {
       "output_type": "stream", 
       "stream": "stdout", 
       "text": [
        "bici tiene "
       ]
      }, 
      {
       "output_type": "stream", 
       "stream": "stdout", 
       "text": [
        "6 synsets --> [Synset('velocipede.n.01'), Synset('push-bike.n.01'), Synset('bicycle-built-for-two.n.01'), Synset('safety_bicycle.n.01'), Synset('ordinary.n.04'), Synset('mountain_bike.n.01')]"
       ]
      }
     ], 
     "prompt_number": 9
    }, 
    {
     "cell_type": "markdown", 
     "source": [
      "Imprime por pantalla la lista de lemas y definiciones de todos los hip\u00f3nimos de *bike* para los sentidos de *moto* y *bici*."
     ]
    }, 
    {
     "cell_type": "code", 
     "collapsed": false, 
     "input": [
      "for item in [moto, bici]:", 
      "    for hyponym in item.hyponyms():", 
      "        print hyponym.lemma_names, hyponym.definition"
     ], 
     "language": "python", 
     "outputs": [
      {
       "output_type": "stream", 
       "stream": "stdout", 
       "text": [
        "['trail_bike', 'dirt_bike', 'scrambler'] a lightweight motorcycle equipped with rugged tires and suspension; an off-road motorcycle designed for riding cross country or over unpaved ground", 
        "['minibike', 'motorbike'] small motorcycle with a low frame and small wheels and elevated handlebars", 
        "['velocipede'] any of several early bicycles with pedals on the front wheel", 
        "['push-bike'] a bicycle that must be pedaled", 
        "['bicycle-built-for-two', 'tandem_bicycle', 'tandem'] a bicycle with two sets of pedals and two seats", 
        "['safety_bicycle', 'safety_bike'] bicycle that has two wheels of equal size; pedals are connected to the rear wheel by a multiplying gear", 
        "['ordinary', 'ordinary_bicycle'] an early bicycle with a very large front wheel and small back wheel", 
        "['mountain_bike', 'all-terrain_bike', 'off-roader'] a bicycle with a sturdy frame and fat tires; originally designed for riding in mountainous country"
       ]
      }
     ], 
     "prompt_number": 10
    }, 
    {
     "cell_type": "markdown", 
     "source": [
      "\u00bfSabr\u00edas crear una funci\u00f3n llamada `imprimeHiponimos` para generalizar esta \u00faltima idea y reutilizar el c\u00f3digo para imprimir por pantalla los lemas y definiciones de cualquier synset que se especifique como argumento?"
     ]
    }, 
    {
     "cell_type": "code", 
     "collapsed": true, 
     "input": [
      "def imprimeHiponimos(synset):", 
      "    \"\"\"Imprime los lemas y las definiciones de todos los ", 
      "    hip\u00f3nimos del synset especificado como entrada. \"\"\"", 
      "    # para cada elemento de synset.hyponyms()", 
      "    for item in synset.hyponyms():", 
      "        # devuelve los lemmas y la definici\u00f3n", 
      "        print item.lemma_names, item.definition"
     ], 
     "language": "python", 
     "outputs": [], 
     "prompt_number": 11
    }, 
    {
     "cell_type": "markdown", 
     "source": [
      "Para comprobar el funcionamiento de `imprimeHiponimos`, invoco la funci\u00f3n especificando como argumento cualquier otro synset: p. ej., el primer sentido para el sustantivo *mammal*."
     ]
    }, 
    {
     "cell_type": "code", 
     "collapsed": false, 
     "input": [
      "mammalSynsets = wn.synsets(\"mammal\", \"n\")", 
      "imprimeHiponimos(mammalSynsets[0])"
     ], 
     "language": "python", 
     "outputs": [
      {
       "output_type": "stream", 
       "stream": "stdout", 
       "text": [
        "['prototherian'] primitive oviparous mammals found only in Australia and Tasmania and New Guinea", 
        "['metatherian'] primitive pouched mammals found mainly in Australia and the Americas", 
        "['female_mammal'] animals that nourish their young with milk", 
        "['tusker'] any mammal with prominent tusks (especially an elephant or wild boar)", 
        "['placental', 'placental_mammal', 'eutherian', 'eutherian_mammal'] mammals having a placenta; all mammals except monotremes and marsupials", 
        "['fossorial_mammal'] a burrowing mammal having limbs adapted for digging"
       ]
      }
     ], 
     "prompt_number": 12
    }, 
    {
     "cell_type": "markdown", 
     "source": [
      "Imprime por pantalla los mer\u00f3nimos de los dos sentidos de *bike*. Seg\u00fan WordNet, \u00bfqu\u00e9 elementos tienen en com\u00fan las bicis y las motos?"
     ]
    }, 
    {
     "cell_type": "code", 
     "collapsed": false, 
     "input": [
      "print moto.part_meronyms()"
     ], 
     "language": "python", 
     "outputs": [
      {
       "output_type": "stream", 
       "stream": "stdout", 
       "text": [
        "[Synset('kickstand.n.01'), Synset('kick_starter.n.01'), Synset('mudguard.n.01')]"
       ]
      }
     ], 
     "prompt_number": 13
    }, 
    {
     "cell_type": "code", 
     "collapsed": false, 
     "input": [
      "print bici.part_meronyms()"
     ], 
     "language": "python", 
     "outputs": [
      {
       "output_type": "stream", 
       "stream": "stdout", 
       "text": [
        "[Synset('kickstand.n.01'), Synset('chain.n.03'), Synset('bicycle_wheel.n.01'), Synset('pedal.n.02'), Synset('bicycle_seat.n.01'), Synset('mudguard.n.01'), Synset('handlebar.n.01'), Synset('coaster_brake.n.01'), Synset('sprocket.n.02')]"
       ]
      }
     ], 
     "prompt_number": 14
    }, 
    {
     "cell_type": "markdown", 
     "source": [
      "Podemos obtener todos los lemas de WordNet a trav\u00e9s del m\u00e9todo `wn.all_lemma_names()`. Ejecuta las siguientes instrucciones para guardar en cuatro variables distintas las listas de nombres, verbos, adjetivos y adverbios presentes en WordNet."
     ]
    }, 
    {
     "cell_type": "code", 
     "collapsed": true, 
     "input": [
      "nounsLemmas = list(wn.all_lemma_names(\"n\"))", 
      "", 
      "verbsLemmas = list(wn.all_lemma_names(\"v\"))", 
      "", 
      "adjectivesLemmas = list(wn.all_lemma_names(\"a\"))", 
      "", 
      "adverbsLemmas = list(wn.all_lemma_names(\"r\"))"
     ], 
     "language": "python", 
     "outputs": [], 
     "prompt_number": 15
    }, 
    {
     "cell_type": "markdown", 
     "source": [
      "Comprueba que has guardado en cada variable una lista de lemas."
     ]
    }, 
    {
     "cell_type": "code", 
     "collapsed": false, 
     "input": [
      "print nounsLemmas[:10]"
     ], 
     "language": "python", 
     "outputs": [
      {
       "output_type": "stream", 
       "stream": "stdout", 
       "text": [
        "['fawn', 'european_creeper', 'female_child', 'sir_frederick_handley_page', 'taconic_mountains', 'nunnery', 'peroxide_blonde', 'composite_number', 'utnapishtim', 'long_wave']"
       ]
      }
     ], 
     "prompt_number": 16
    }, 
    {
     "cell_type": "code", 
     "collapsed": false, 
     "input": [
      "print adverbsLemmas[:10]"
     ], 
     "language": "python", 
     "outputs": [
      {
       "output_type": "stream", 
       "stream": "stdout", 
       "text": [
        "['south-west', 'comically', 'in_reality', 'perfunctorily', 'lickety_cut', 'trickily', 'exuberantly', 'morally', 'for_love_or_money', 'expressively']"
       ]
      }
     ], 
     "prompt_number": 17
    }, 
    {
     "cell_type": "markdown", 
     "source": [
      "En promedio, \u00bfcu\u00e1ntos synsets tenemos por cada lema en cada categor\u00eda? \u00bfSabr\u00edas escribir una funci\u00f3n llamada `polisemiaPromedio` que tomara como argumento una lista de lemas y calculara el n\u00famero promedio de sentidos que tiene cada uno de los lemas?"
     ]
    }, 
    {
     "cell_type": "code", 
     "collapsed": true, 
     "input": [
      "def polisemiaPromedio(listOfLemmas):", 
      "    \"\"\"Calcula la polisemia promedio a partir de una lista de lemas. \"\"\"", 
      "    # inicializa a cero una variable que servir\u00e1 para contabilizar el numeroTotalDeSynsets", 
      "    numeroTotalDeSynsets = 0", 
      "    # para cada elemento de listOfLemmas", 
      "    for lemma in listOfLemmas:", 
      "        # calcula el n\u00famero de synsets que tiene y suma ese n\u00famero a numeroTotalDeSynsets", 
      "        numeroTotalDeSynsets = numeroTotalDeSynsets + len(wn.synsets(lemma))", 
      "    # cuando hayas terminado de recorrer la lista listOfLemmas, ", 
      "    # devuelve numeroTotalDeSynsets / la longitud de la lista listOfLemmas", 
      "    return numeroTotalDeSynsets/len(listOfLemmas)"
     ], 
     "language": "python", 
     "outputs": [], 
     "prompt_number": 18
    }, 
    {
     "cell_type": "markdown", 
     "source": [
      "Ahora ejecuto la funci\u00f3n `polisemiaPromedio` con las cuatro listas de lemmas que he creado anteriormente."
     ]
    }, 
    {
     "cell_type": "code", 
     "collapsed": false, 
     "input": [
      "polisemiaPromedio(nounsLemmas)"
     ], 
     "language": "python", 
     "outputs": [
      {
       "output_type": "pyout", 
       "prompt_number": 19, 
       "text": [
        "1.4871220224452029"
       ]
      }
     ], 
     "prompt_number": 19
    }, 
    {
     "cell_type": "code", 
     "collapsed": false, 
     "input": [
      "polisemiaPromedio(verbsLemmas)"
     ], 
     "language": "python", 
     "outputs": [
      {
       "output_type": "pyout", 
       "prompt_number": 20, 
       "text": [
        "3.409489114407147"
       ]
      }
     ], 
     "prompt_number": 20
    }, 
    {
     "cell_type": "code", 
     "collapsed": false, 
     "input": [
      "polisemiaPromedio(adjectivesLemmas)"
     ], 
     "language": "python", 
     "outputs": [
      {
       "output_type": "pyout", 
       "prompt_number": 21, 
       "text": [
        "2.3072303179850087"
       ]
      }
     ], 
     "prompt_number": 21
    }, 
    {
     "cell_type": "code", 
     "collapsed": false, 
     "input": [
      "polisemiaPromedio(adverbsLemmas)"
     ], 
     "language": "python", 
     "outputs": [
      {
       "output_type": "pyout", 
       "prompt_number": 22, 
       "text": [
        "1.8531577772818568"
       ]
      }
     ], 
     "prompt_number": 22
    }, 
    {
     "cell_type": "markdown", 
     "source": [
      "Pues parece que los verbos son los que m\u00e1s sentidos tienen, en promedio, m\u00e1s de 3,4 sentidos por lema. Los que menos polisemia tienen parecen ser los sustantivos, como menos de 1,5 sentidos por lemma."
     ]
    }
   ]
  }
 ]
}